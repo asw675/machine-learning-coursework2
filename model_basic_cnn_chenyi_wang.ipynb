{
 "cells": [
  {
   "cell_type": "code",
   "execution_count": 1,
   "metadata": {
    "colab": {
     "base_uri": "https://localhost:8080/"
    },
    "executionInfo": {
     "elapsed": 1643,
     "status": "ok",
     "timestamp": 1650038017369,
     "user": {
      "displayName": "Reason Lee",
      "userId": "09406326740026579392"
     },
     "user_tz": -480
    },
    "id": "b15fJarPW5-3",
    "outputId": "91f6c698-e83d-48ff-fefc-09dfcf6a99e0"
   },
   "outputs": [],
   "source": [
    "import os\n",
    "import pandas as pd\n",
    "import numpy as np\n",
    "from numpy import expand_dims\n",
    "import matplotlib.pyplot as plt\n",
    "import matplotlib.image as mpimg\n",
    "from skimage.transform import resize\n",
    "from IPython.display import SVG\n",
    "from tensorflow import keras\n",
    "from keras import applications\n",
    "from keras import optimizers\n",
    "from keras.models import Model, Sequential\n",
    "from keras.preprocessing.image import ImageDataGenerator, load_img, img_to_array\n",
    "from keras.layers import Dense, Flatten, Dropout, BatchNormalization, GlobalAveragePooling2D\n",
    "from keras.applications.inception_v3 import InceptionV3, preprocess_input\n",
    "from keras.utils.np_utils import to_categorical\n",
    "from keras import layers, models\n",
    "from keras.callbacks import ModelCheckpoint, EarlyStopping, CSVLogger, ReduceLROnPlateau\n",
    "\n",
    "\n",
    "train_path = \"../images/train/\"\n",
    "test_path = \"../images/test/\"\n",
    "img_width, img_height = 224, 224\n",
    "channels = 3\n",
    "batch_size = 64\n",
    "num_images = 100\n",
    "image_arr_size = img_width * img_height * channels\n"
   ]
  },
  {
   "cell_type": "code",
   "execution_count": 2,
   "metadata": {
    "colab": {
     "base_uri": "https://localhost:8080/"
    },
    "executionInfo": {
     "elapsed": 23000,
     "status": "ok",
     "timestamp": 1650037940447,
     "user": {
      "displayName": "Reason Lee",
      "userId": "09406326740026579392"
     },
     "user_tz": -480
    },
    "id": "pnl54Fbe61sV",
    "outputId": "f3f0c2f9-1937-4afa-b38a-6f68f50f65d4"
   },
   "outputs": [
    {
     "name": "stdout",
     "output_type": "stream",
     "text": [
      "Found 9600 images belonging to 120 classes.\n",
      "Found 2400 images belonging to 120 classes.\n"
     ]
    }
   ],
   "source": [
    "\n",
    "train_datagen = ImageDataGenerator(\n",
    "    rescale= 1./255,\n",
    "    shear_range= 0.2,\n",
    "    zoom_range= 0.2,\n",
    "    horizontal_flip= True,\n",
    "    rotation_range= 20,\n",
    "    width_shift_range= 0.2,\n",
    "    height_shift_range= 0.2,\n",
    "    validation_split=0.2,\n",
    "\n",
    ")\n",
    "\n",
    "valid_datagen = ImageDataGenerator(\n",
    "    rescale= 1./255,\n",
    "    validation_split=0.2,\n",
    ")\n",
    "\n",
    "\n",
    "train_generator = train_datagen.flow_from_directory(\n",
    "    train_path,\n",
    "    target_size= (img_width, img_height),\n",
    "    color_mode= 'rgb',\n",
    "    batch_size= batch_size,\n",
    "    class_mode= 'categorical',\n",
    "    subset='training',\n",
    "    shuffle= True,\n",
    "    seed= 1337\n",
    ")\n",
    "\n",
    "valid_generator = valid_datagen.flow_from_directory(\n",
    "    train_path,\n",
    "    target_size= (img_width, img_height),\n",
    "    color_mode= 'rgb',\n",
    "    batch_size= batch_size,\n",
    "    class_mode= 'categorical',\n",
    "    subset='validation',\n",
    "    shuffle= True,\n",
    "    seed= 1337\n",
    ")"
   ]
  },
  {
   "cell_type": "code",
   "execution_count": 3,
   "metadata": {
    "executionInfo": {
     "elapsed": 216,
     "status": "ok",
     "timestamp": 1650037986783,
     "user": {
      "displayName": "Reason Lee",
      "userId": "09406326740026579392"
     },
     "user_tz": -480
    },
    "id": "w0vccD6-7Yqx"
   },
   "outputs": [],
   "source": [
    "num_classes = len(train_generator.class_indices)\n",
    "train_labels = train_generator.classes\n",
    "train_labels = to_categorical(train_labels, num_classes=num_classes)\n",
    "valid_labels = valid_generator.classes\n",
    "valid_labels = to_categorical(valid_labels, num_classes=num_classes)\n",
    "nb_train_samples = len(train_generator.filenames)\n",
    "nb_valid_samples = len(valid_generator.filenames)"
   ]
  },
  {
   "cell_type": "code",
   "execution_count": 4,
   "metadata": {
    "colab": {
     "base_uri": "https://localhost:8080/"
    },
    "executionInfo": {
     "elapsed": 1548,
     "status": "ok",
     "timestamp": 1650046252658,
     "user": {
      "displayName": "Reason Lee",
      "userId": "09406326740026579392"
     },
     "user_tz": -480
    },
    "id": "Gh9jT1BR7ccq",
    "outputId": "7aecf805-197a-4b91-c409-1cc5566121ed"
   },
   "outputs": [
    {
     "name": "stdout",
     "output_type": "stream",
     "text": [
      "Found 8580 images belonging to 120 classes.\n"
     ]
    }
   ],
   "source": [
    "test_datagen = ImageDataGenerator(rescale=1/255.0)\n",
    "test_generator = test_datagen.flow_from_directory(\n",
    "                                    test_path,\n",
    "                                    target_size=(img_width, img_height),\n",
    "                                    color_mode= 'rgb',\n",
    "                                    batch_size=batch_size,\n",
    "                                    class_mode= 'categorical',\n",
    "                                    shuffle=True,)\n",
    "test_generator.reset()"
   ]
  },
  {
   "cell_type": "markdown",
   "metadata": {
    "id": "868AJjUL7DV2"
   },
   "source": [
    "# Model"
   ]
  },
  {
   "cell_type": "markdown",
   "metadata": {},
   "source": [
    "# 1. basic CNN"
   ]
  },
  {
   "cell_type": "code",
   "execution_count": 5,
   "metadata": {},
   "outputs": [],
   "source": [
    "from keras.layers import Dense, Dropout, Flatten\n",
    "from keras.layers import Conv2D, MaxPooling2D"
   ]
  },
  {
   "cell_type": "code",
   "execution_count": 7,
   "metadata": {
    "colab": {
     "base_uri": "https://localhost:8080/"
    },
    "executionInfo": {
     "elapsed": 7690417,
     "status": "ok",
     "timestamp": 1650045768866,
     "user": {
      "displayName": "Reason Lee",
      "userId": "09406326740026579392"
     },
     "user_tz": -480
    },
    "id": "nISkvTSL7u-0",
    "outputId": "12838c16-84d3-48c2-fc94-ab3b41406cd1"
   },
   "outputs": [
    {
     "name": "stdout",
     "output_type": "stream",
     "text": [
      "Epoch 1/3\n",
      "50/50 [==============================] - 83s 2s/step - loss: 7.6398 - accuracy: 0.0069 - val_loss: 4.7875 - val_accuracy: 0.0083\n",
      "Epoch 2/3\n",
      "50/50 [==============================] - 83s 2s/step - loss: 4.7879 - accuracy: 0.0056 - val_loss: 4.7875 - val_accuracy: 0.0083\n",
      "Epoch 3/3\n",
      "50/50 [==============================] - 82s 2s/step - loss: 4.7877 - accuracy: 0.0084 - val_loss: 4.7875 - val_accuracy: 0.0083\n"
     ]
    }
   ],
   "source": [
    "isp = (img_width, img_height, channels)\n",
    "\n",
    "\n",
    "model = Sequential()\n",
    "model.add(Conv2D(32,kernel_size=(3,3),input_shape=isp))\n",
    "model.add(Flatten())\n",
    "model.add(layers.Dense(10,kernel_initializer='he_uniform'))\n",
    "model.add(layers.Activation('relu'))\n",
    "model.add(layers.Dropout(0.5))\n",
    "model.add(layers.Dense(120,activation='softmax'))\n",
    "\n",
    "model.compile(optimizer='adam',\n",
    "              loss='categorical_crossentropy',\n",
    "              metrics=['accuracy'])\n",
    "history=model.fit(train_generator, steps_per_epoch=50, epochs=3, verbose= 1, validation_data= valid_generator)"
   ]
  },
  {
   "cell_type": "code",
   "execution_count": 8,
   "metadata": {
    "colab": {
     "base_uri": "https://localhost:8080/"
    },
    "executionInfo": {
     "elapsed": 1654930,
     "status": "ok",
     "timestamp": 1650047911612,
     "user": {
      "displayName": "Reason Lee",
      "userId": "09406326740026579392"
     },
     "user_tz": -480
    },
    "id": "RaIfpV5vZ9s_",
    "outputId": "ed24428a-601e-44e8-8d67-890e72461337"
   },
   "outputs": [
    {
     "name": "stdout",
     "output_type": "stream",
     "text": [
      "135/135 - 45s\n"
     ]
    }
   ],
   "source": [
    "pred = model.predict(test_generator, verbose=2)\n",
    "pred = np.argmax(pred,axis=1)"
   ]
  },
  {
   "cell_type": "code",
   "execution_count": 9,
   "metadata": {
    "colab": {
     "base_uri": "https://localhost:8080/"
    },
    "executionInfo": {
     "elapsed": 211,
     "status": "ok",
     "timestamp": 1650051585282,
     "user": {
      "displayName": "Reason Lee",
      "userId": "09406326740026579392"
     },
     "user_tz": -480
    },
    "id": "S4vFN6-muz4c",
    "outputId": "104d3264-7d06-449d-fe5c-ab48d13a3af7"
   },
   "outputs": [
    {
     "name": "stdout",
     "output_type": "stream",
     "text": [
      "Test accuracy: 93.0000%\n"
     ]
    }
   ],
   "source": [
    "test_accuracy = np.sum(np.array(pred))/len(pred)\n",
    "print('Test accuracy: %.4f%%' % test_accuracy)"
   ]
  },
  {
   "cell_type": "code",
   "execution_count": 10,
   "metadata": {
    "colab": {
     "base_uri": "https://localhost:8080/"
    },
    "executionInfo": {
     "elapsed": 983605,
     "status": "ok",
     "timestamp": 1650052608110,
     "user": {
      "displayName": "Reason Lee",
      "userId": "09406326740026579392"
     },
     "user_tz": -480
    },
    "id": "zQpblrnovZq8",
    "outputId": "cf832dac-4491-4206-8084-e66590aa46fa"
   },
   "outputs": [
    {
     "name": "stdout",
     "output_type": "stream",
     "text": [
      "135/135 - 46s - loss: 4.7878 - accuracy: 0.0058\n"
     ]
    }
   ],
   "source": [
    "score = model.evaluate(test_generator, verbose=2)"
   ]
  },
  {
   "cell_type": "code",
   "execution_count": 11,
   "metadata": {},
   "outputs": [
    {
     "name": "stdout",
     "output_type": "stream",
     "text": [
      "score=[4.787779331207275, 0.005827505607157946]\n"
     ]
    }
   ],
   "source": [
    "print('score={0}'.format(score))"
   ]
  },
  {
   "cell_type": "code",
   "execution_count": null,
   "metadata": {},
   "outputs": [],
   "source": []
  },
  {
   "cell_type": "code",
   "execution_count": null,
   "metadata": {},
   "outputs": [],
   "source": []
  }
 ],
 "metadata": {
  "colab": {
   "authorship_tag": "ABX9TyML3wNw4AXH/fPNCRTXiba/",
   "collapsed_sections": [],
   "name": "Untitled4.ipynb",
   "provenance": []
  },
  "kernelspec": {
   "display_name": "Python 3 (ipykernel)",
   "language": "python",
   "name": "python3"
  },
  "language_info": {
   "codemirror_mode": {
    "name": "ipython",
    "version": 3
   },
   "file_extension": ".py",
   "mimetype": "text/x-python",
   "name": "python",
   "nbconvert_exporter": "python",
   "pygments_lexer": "ipython3",
   "version": "3.8.13"
  }
 },
 "nbformat": 4,
 "nbformat_minor": 1
}
